{
  "nbformat": 4,
  "nbformat_minor": 0,
  "metadata": {
    "colab": {
      "provenance": [],
      "authorship_tag": "ABX9TyOWb+FIyVRXwW08+rhFFden",
      "include_colab_link": true
    },
    "kernelspec": {
      "name": "python3",
      "display_name": "Python 3"
    },
    "language_info": {
      "name": "python"
    }
  },
  "cells": [
    {
      "cell_type": "markdown",
      "metadata": {
        "id": "view-in-github",
        "colab_type": "text"
      },
      "source": [
        "<a href=\"https://colab.research.google.com/github/vinay27-1/weather/blob/main/weather.ipynb\" target=\"_parent\"><img src=\"https://colab.research.google.com/assets/colab-badge.svg\" alt=\"Open In Colab\"/></a>"
      ]
    },
    {
      "cell_type": "code",
      "execution_count": 3,
      "metadata": {
        "colab": {
          "base_uri": "https://localhost:8080/"
        },
        "id": "p3kt-NYmYWaE",
        "outputId": "3331e549-13dd-4c39-e330-ad39dd7aa700"
      },
      "outputs": [
        {
          "output_type": "stream",
          "name": "stdout",
          "text": [
            "Do you want to enter your own data or get data from the existing file?\n",
            "Press 0 for your own data, press 1 for existing data:\n",
            "0\n",
            "Enter temperature: 24\n",
            "Enter humidity: 42\n",
            "Enter wind speed: 50\n",
            "The day was: Cloudy\n",
            "Do you want to save this data? Press 1 for Yes, 0 for No: 1\n",
            "Enter date (YYYY-MM-DD): 2014-02-14\n",
            "Data saved successfully.\n"
          ]
        }
      ],
      "source": [
        "import pandas as pd\n",
        "from openpyxl import load_workbook\n",
        "\n",
        "# Function to classify weather based on TW value\n",
        "def classify_weather(tw):\n",
        "    if tw > 350:\n",
        "        return \"Sunny\"\n",
        "    elif 250 < tw <= 350:\n",
        "        return \"Cloudy\"\n",
        "    elif 150 < tw <= 250:\n",
        "        return \"Rainy\"\n",
        "    else:\n",
        "        return \"Stormy\"\n",
        "\n",
        "# Function to calculate TW\n",
        "def calculate_tw(temp, humidity, wind_speed):\n",
        "    return (0.5 * temp**2) - (0.2 * humidity) + (0.1 * wind_speed) - 15\n",
        "\n",
        "# Function to load and validate Excel data\n",
        "def load_weather_data(file_path):\n",
        "    data = pd.read_excel(file_path)\n",
        "    required_columns = [\"Date\", \"Temperature\", \"Humidity\", \"Wind Speed\"]\n",
        "    if not all(col in data.columns for col in required_columns):\n",
        "        raise ValueError(f\"Input file must contain the following columns: {', '.join(required_columns)}\")\n",
        "    return data\n",
        "\n",
        "# Function to save new data to Excel\n",
        "def save_weather_data(file_path, date, temp, humidity, wind_speed, tw, condition):\n",
        "    wb = load_workbook(file_path)\n",
        "    sheet = wb.active\n",
        "    sheet.append([date, temp, humidity, wind_speed, tw, condition])\n",
        "    wb.save(file_path)\n",
        "    print(\"Data saved successfully.\")\n",
        "\n",
        "# Main program\n",
        "def main():\n",
        "    weather_data_file = \"weather-data.xlsx\"\n",
        "    new_weather_file = \"new-weather-data.xlsx\"\n",
        "\n",
        "    try:\n",
        "        data = load_weather_data(weather_data_file)\n",
        "    except Exception as e:\n",
        "        print(f\"Error loading data: {e}\")\n",
        "        return\n",
        "\n",
        "    # Process weather data\n",
        "    weather_data = []\n",
        "    for _, row in data.iterrows():\n",
        "        date = pd.to_datetime(row[\"Date\"]).strftime('%Y-%m-%d')\n",
        "        temp = row[\"Temperature\"]\n",
        "        humidity = row[\"Humidity\"]\n",
        "        wind_speed = row[\"Wind Speed\"]\n",
        "        tw = calculate_tw(temp, humidity, wind_speed)\n",
        "        weather_data.append([date, tw])\n",
        "\n",
        "    # User choice\n",
        "    print(\"Do you want to enter your own data or get data from the existing file?\")\n",
        "    print(\"Press 0 for your own data, press 1 for existing data:\")\n",
        "    choice = int(input())\n",
        "\n",
        "    if choice == 0:\n",
        "        # Input new data\n",
        "        temp = int(input(\"Enter temperature: \"))\n",
        "        humidity = int(input(\"Enter humidity: \"))\n",
        "        wind_speed = int(input(\"Enter wind speed: \"))\n",
        "\n",
        "        tw = calculate_tw(temp, humidity, wind_speed)\n",
        "        weather_condition = classify_weather(tw)\n",
        "        print(f\"The day was: {weather_condition}\")\n",
        "\n",
        "        # Save data\n",
        "        save_choice = int(input(\"Do you want to save this data? Press 1 for Yes, 0 for No: \"))\n",
        "        if save_choice == 1:\n",
        "            date = input(\"Enter date (YYYY-MM-DD): \")\n",
        "            save_weather_data(new_weather_file, date, temp, humidity, wind_speed, tw, weather_condition)\n",
        "    else:\n",
        "        # Retrieve data based on date\n",
        "        date = input(\"Enter date (YYYY-MM-DD): \")\n",
        "        for record in weather_data:\n",
        "            if record[0] == date:\n",
        "                weather_condition = classify_weather(record[1])\n",
        "                print(f\"The day was: {weather_condition}\")\n",
        "                break\n",
        "        else:\n",
        "            print(\"No data found.\")\n",
        "\n",
        "if __name__ == \"__main__\":\n",
        "    main()\n"
      ]
    }
  ]
}